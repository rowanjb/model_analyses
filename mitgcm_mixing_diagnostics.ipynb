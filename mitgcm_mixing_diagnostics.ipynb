{
 "cells": [
  {
   "cell_type": "markdown",
   "id": "f5454433",
   "metadata": {},
   "source": [
    "# What do the mixing-related diagnostic variables tell us?\n",
    "\n",
    "In the run mrb_057, with wind and surface buoyancy forcing, boundary relaxation sponges, and simple constant viscosities (and \"33\" numerical schemes), what do the various diagnostics with \"diffusivity\" and \"viscosity\" in their name tell us?"
   ]
  },
  {
   "cell_type": "markdown",
   "id": "7a686c28",
   "metadata": {},
   "source": [
    "| Prefix   | Variables |\n",
    "|----------|-----------|\n",
    "| surfDiag | ETAN    , TFLUX   , SFLUX   , oceTAUX |\n",
    "| dynDiag  | UVEL    , VVEL    , WVEL    , THETA   ,</br> PHIHYD  , PHI_NH   |\n",
    "| fluxDiag | WVELSLT , WVELTH  , DRHODR  |\n",
    "| diffDiag | DFrE_TH , DFxE_TH , DFyE_TH , DFrI_TH ,</br> DFrE_SLT, DFxE_SLT, DFyE_SLT, DFrI_SLT|\n",
    "| vis1Diag | VISCAHZ , VISCA4Z , VISCAHD , VISCA4D ,</br> VISCAHW , VISCA4W , VAHZMAX , VA4ZMAX ,</br> VAHDMAX , VA4DMAX , VAHZMIN , VA4ZMIN ,</br> VAHDMIN , VA4DMIN , VAHZLTH , VA4ZLTH ,</br> VAHDLTH , VA4DLTH , VAHZLTHD, VA4ZLTHD |\n",
    "| vis2Diag | VAHDLTHD, VA4DLTHD, VAHZSMAG, VA4ZSMAG,</br> VAHDSMAG, VA4DSMAG, VISCx_Um, VISCy_Um,</br> VISrE_Um, VISrI_Um, VISCx_Vm, VISCy_Vm,</br> VISrE_Vm, VISrI_Vm, Stretch |"
   ]
  },
  {
   "cell_type": "code",
   "execution_count": 2,
   "id": "00caadac",
   "metadata": {},
   "outputs": [],
   "source": [
    "# Imports\n",
    "import xarray as xr\n",
    "from xmitgcm import open_mdsdataset \n",
    "import matplotlib.pyplot as plt\n",
    "import numpy as np\n",
    "import basic_model_anayses as bma\n",
    "import gsw"
   ]
  },
  {
   "cell_type": "code",
   "execution_count": 3,
   "id": "356ba10b",
   "metadata": {},
   "outputs": [],
   "source": [
    "fp = '/albedo/home/robrow001/MITgcm/so_plumes/mrb_057/'\n",
    "ds_surfDiag = open_mdsdataset(fp, geometry='cartesian', prefix=['surfDiag'])\n",
    "ds_dynDiag = open_mdsdataset(fp, geometry='cartesian', prefix=['dynDiag'])\n",
    "ds_fluxDiag = open_mdsdataset(fp, geometry='cartesian', prefix=['fluxDiag'])\n",
    "ds_diffDiag = open_mdsdataset(fp, geometry='cartesian', prefix=['diffDiag'])\n",
    "ds_vis1Diag = open_mdsdataset(fp, geometry='cartesian', prefix=['vis1Diag'])\n",
    "ds_vis2Diag = open_mdsdataset(fp, geometry='cartesian', prefix=['dvis2Diag'])"
   ]
  },
  {
   "cell_type": "code",
   "execution_count": 11,
   "id": "99c40466",
   "metadata": {},
   "outputs": [],
   "source": [
    "def flag_invariant_diags(ds):\n",
    "    \"\"\"Identifies diagnostics that don't change throughout the simulation.\"\"\"\n",
    "    useful_diags = []\n",
    "    invariant_diags = []\n",
    "    diags = list(ds.keys())\n",
    "    for diag in diags:\n",
    "        if ds[diag].min() == ds[diag].max():\n",
    "            invariant_diags.append(diag)\n",
    "        else:\n",
    "            useful_diags.append(diag)\n",
    "    return useful_diags, invariant_diags"
   ]
  },
  {
   "cell_type": "code",
   "execution_count": 22,
   "id": "e6f8431b",
   "metadata": {},
   "outputs": [
    {
     "name": "stdout",
     "output_type": "stream",
     "text": [
      "Useful diagnostics:\n",
      "['ETAN', 'TFLUX', 'SFLUX', 'oceTAUX', 'UVEL', 'VVEL', 'WVEL', 'THETA', 'PHIHYD', 'PHI_NH', 'WVELSLT', 'WVELTH', 'DRHODR', 'VISCx_Um', 'VISCy_Um', 'VISrE_Um', 'VISCx_Vm', 'VISCy_Vm', 'VISrE_Vm']\n",
      "\n",
      "Invariant diagnostics:\n",
      "['DFrE_TH', 'DFxE_TH', 'DFyE_TH', 'DFrI_TH', 'DFrE_SLT', 'DFxE_SLT', 'DFyE_SLT', 'DFrI_SLT', 'VISCAHZ', 'VISCA4Z', 'VISCAHD', 'VISCA4D', 'VISCAHW', 'VISCA4W', 'VAHZMAX', 'VA4ZMAX', 'VAHDMAX', 'VA4DMAX', 'VAHZMIN', 'VA4ZMIN', 'VAHDMIN', 'VA4DMIN', 'VAHZLTH', 'VA4ZLTH', 'VAHDLTH', 'VA4DLTH', 'VAHZLTHD', 'VA4ZLTHD', 'VAHDLTHD', 'VA4DLTHD', 'VAHZSMAG', 'VA4ZSMAG', 'VAHDSMAG', 'VA4DSMAG', 'VISrI_Um', 'VISrI_Vm', 'Stretch']\n"
     ]
    }
   ],
   "source": [
    "useful_diags_master, invariant_diags_master = [], []\n",
    "for run in [ds_surfDiag, ds_dynDiag, ds_fluxDiag, ds_diffDiag, ds_vis1Diag, ds_vis2Diag]:\n",
    "    useful_diags_temp, invariant_diags_temp = flag_invariant_diags(run)\n",
    "    for useful_diag in useful_diags_temp: \n",
    "        useful_diags_master.append(useful_diag)\n",
    "    for invariant_diag in invariant_diags_temp: \n",
    "        invariant_diags_master.append(invariant_diag)\n",
    "print('Useful diagnostics:')\n",
    "print(useful_diags_master)\n",
    "print('\\nInvariant diagnostics:')\n",
    "print(invariant_diags_master)"
   ]
  },
  {
   "cell_type": "markdown",
   "id": "dec4a42e",
   "metadata": {},
   "source": [
    "Useful diagnostics:\n",
    "['ETAN', 'TFLUX', 'SFLUX', 'oceTAUX', 'UVEL', 'VVEL', 'WVEL', 'THETA', 'PHIHYD', 'PHI_NH', 'WVELSLT', 'WVELTH', 'DRHODR', 'VISCx_Um', 'VISCy_Um', 'VISrE_Um', 'VISCx_Vm', 'VISCy_Vm', 'VISrE_Vm']\n",
    "\n",
    "Invariant diagnostics:\n",
    "['DFrE_TH', 'DFxE_TH', 'DFyE_TH', 'DFrI_TH', 'DFrE_SLT', 'DFxE_SLT', 'DFyE_SLT', 'DFrI_SLT', 'VISCAHZ', 'VISCA4Z', 'VISCAHD', 'VISCA4D', 'VISCAHW', 'VISCA4W', 'VAHZMAX', 'VA4ZMAX', 'VAHDMAX', 'VA4DMAX', 'VAHZMIN', 'VA4ZMIN', 'VAHDMIN', 'VA4DMIN', 'VAHZLTH', 'VA4ZLTH', 'VAHDLTH', 'VA4DLTH', 'VAHZLTHD', 'VA4ZLTHD', 'VAHDLTHD', 'VA4DLTHD', 'VAHZSMAG', 'VA4ZSMAG', 'VAHDSMAG', 'VA4DSMAG', 'VISrI_Um', 'VISrI_Vm', 'Stretch']"
   ]
  }
 ],
 "metadata": {
  "kernelspec": {
   "display_name": ".venv",
   "language": "python",
   "name": "python3"
  },
  "language_info": {
   "codemirror_mode": {
    "name": "ipython",
    "version": 3
   },
   "file_extension": ".py",
   "mimetype": "text/x-python",
   "name": "python",
   "nbconvert_exporter": "python",
   "pygments_lexer": "ipython3",
   "version": "3.9.15"
  }
 },
 "nbformat": 4,
 "nbformat_minor": 5
}
